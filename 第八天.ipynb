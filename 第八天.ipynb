{
 "cells": [
  {
   "cell_type": "markdown",
   "metadata": {},
   "source": [
    "# 题目一 062不同路径"
   ]
  },
  {
   "cell_type": "markdown",
   "metadata": {},
   "source": [
    "### 题目描述"
   ]
  },
  {
   "cell_type": "markdown",
   "metadata": {},
   "source": [
    "一个机器人位于一个 m x n 网格的左上角 （起始点在下图中标记为 “Start” ）。\n",
    "\n",
    "机器人每次只能向下或者向右移动一步。机器人试图达到网格的右下角（在下图中标记为 “Finish” ）。\n",
    "\n",
    "问总共有多少条不同的路径？\n"
   ]
  },
  {
   "cell_type": "markdown",
   "metadata": {},
   "source": [
    "**示例1**\n",
    "```\n",
    "输入：m = 3, n = 7\n",
    "输出：28\n",
    "```"
   ]
  },
  {
   "cell_type": "markdown",
   "metadata": {},
   "source": [
    "**示例2**\n",
    "```\n",
    "输入：m = 3, n = 2\n",
    "输出：3\n",
    "解释：\n",
    "从左上角开始，总共有 3 条路径可以到达右下角。\n",
    "1. 向右 -> 向右 -> 向下\n",
    "2. 向右 -> 向下 -> 向右\n",
    "3. 向下 -> 向右 -> 向右\n",
    "```"
   ]
  },
  {
   "cell_type": "markdown",
   "metadata": {},
   "source": [
    "### 实现"
   ]
  },
  {
   "cell_type": "markdown",
   "metadata": {},
   "source": [
    "构建m行n列的矩阵matrix,每个元素表示从当前位置到终点的路径条数，矩阵的最后一行和最后一列到达终点只有一条路，因此赋值为1.可以从下向上，从右向左填写矩阵，由于可以有向下和向右两个方向走，所以位置（i,j）到达终点的路径个数等于位置(i+1,j)和位置（i,j+1)的路径之和，最终返回matrix[0][0]即为起点开始的路径个数。"
   ]
  },
  {
   "cell_type": "code",
   "execution_count": 1,
   "metadata": {},
   "outputs": [
    {
     "data": {
      "text/plain": [
       "28"
      ]
     },
     "execution_count": 1,
     "metadata": {},
     "output_type": "execute_result"
    }
   ],
   "source": [
    "m = 3\n",
    "n = 7\n",
    "if m == 1 or n == 1:\n",
    "    res = 1\n",
    "else:\n",
    "    matrix = [[0 for i in range(n)] for i in range(m)]\n",
    "    for i in range(n):\n",
    "        matrix[m-1][i] = 1\n",
    "    for i in range(m-1):\n",
    "        matrix[i][n-1] = 1\n",
    "    for i in range(m-2,-1,-1):\n",
    "        for j in range(n-2,-1,-1):\n",
    "            matrix[i][j] = matrix[i+1][j] + matrix[i][j+1]\n",
    "    res = matrix[0][0]\n",
    "res"
   ]
  },
  {
   "cell_type": "markdown",
   "metadata": {},
   "source": [
    "- 时间复杂度：$O(mn)$\n",
    "- 空间复杂度：$O(mn)$"
   ]
  },
  {
   "cell_type": "markdown",
   "metadata": {},
   "source": [
    "# 题目二 070爬楼梯"
   ]
  },
  {
   "cell_type": "markdown",
   "metadata": {},
   "source": [
    "### 题目描述"
   ]
  },
  {
   "cell_type": "markdown",
   "metadata": {},
   "source": [
    "假设你正在爬楼梯。需要 n 阶你才能到达楼顶。\n",
    "\n",
    "每次你可以爬 1 或 2 个台阶。你有多少种不同的方法可以爬到楼顶呢？\n",
    "\n",
    "注意：给定 n 是一个正整数。"
   ]
  },
  {
   "cell_type": "markdown",
   "metadata": {},
   "source": [
    "**示例1**\n",
    "```\n",
    "输入： 2\n",
    "输出： 2\n",
    "解释： 有两种方法可以爬到楼顶。\n",
    "1.  1 阶 + 1 阶\n",
    "2.  2 阶\n",
    "```"
   ]
  },
  {
   "cell_type": "markdown",
   "metadata": {},
   "source": [
    "**示例2**\n",
    "```\n",
    "输入： 3\n",
    "输出： 3\n",
    "解释： 有三种方法可以爬到楼顶。\n",
    "1.  1 阶 + 1 阶 + 1 阶\n",
    "2.  1 阶 + 2 阶\n",
    "3.  2 阶 + 1 阶\n",
    "```"
   ]
  },
  {
   "cell_type": "markdown",
   "metadata": {},
   "source": [
    "### 实现"
   ]
  },
  {
   "cell_type": "markdown",
   "metadata": {},
   "source": [
    "斐波那契数列方法"
   ]
  },
  {
   "cell_type": "code",
   "execution_count": 2,
   "metadata": {},
   "outputs": [
    {
     "data": {
      "text/plain": [
       "1134903170"
      ]
     },
     "execution_count": 2,
     "metadata": {},
     "output_type": "execute_result"
    }
   ],
   "source": [
    "def climbStairs(n):\n",
    "    if n <= 2:\n",
    "        return n\n",
    "    n1, n2 = 1, 2\n",
    "    i = 3\n",
    "    while i <= n:\n",
    "        n3 = n1 + n2\n",
    "        n1, n2 = n2, n3\n",
    "        i = i + 1\n",
    "    return n3\n",
    "climbStairs(44)"
   ]
  },
  {
   "cell_type": "markdown",
   "metadata": {},
   "source": [
    "- 时间复杂度： $O(n)$\n",
    "- 空间复杂度：$O(1)$"
   ]
  },
  {
   "cell_type": "markdown",
   "metadata": {},
   "source": [
    "# 题目三 078子集"
   ]
  },
  {
   "cell_type": "markdown",
   "metadata": {},
   "source": [
    "### 题目描述"
   ]
  },
  {
   "cell_type": "markdown",
   "metadata": {},
   "source": [
    "给你一个整数数组 nums ，返回该数组所有可能的子集（幂集）。解集不能包含重复的子集。"
   ]
  },
  {
   "cell_type": "markdown",
   "metadata": {},
   "source": [
    "**示例1**\n",
    "```\n",
    "输入：nums = [1,2,3]\n",
    "输出：[[],[1],[2],[1,2],[3],[1,3],[2,3],[1,2,3]]\n",
    "```"
   ]
  },
  {
   "cell_type": "markdown",
   "metadata": {},
   "source": [
    "**示例2**\n",
    "```\n",
    "输入：nums = [0]\n",
    "输出：[[],[0]]\n",
    "```"
   ]
  },
  {
   "cell_type": "markdown",
   "metadata": {},
   "source": [
    "### 实现"
   ]
  },
  {
   "cell_type": "code",
   "execution_count": 3,
   "metadata": {},
   "outputs": [
    {
     "name": "stdout",
     "output_type": "stream",
     "text": [
      "回退前 [1]\n",
      "回退前 [1, 2]\n",
      "回退前 [1, 2, 3]\n",
      "回退后 [1, 2]\n",
      "回退后 [1]\n",
      "回退前 [1, 3]\n",
      "回退后 [1]\n",
      "回退后 []\n",
      "回退前 [2]\n",
      "回退前 [2, 3]\n",
      "回退后 [2]\n",
      "回退后 []\n",
      "回退前 [3]\n",
      "回退后 []\n"
     ]
    },
    {
     "data": {
      "text/plain": [
       "[[], [1], [1, 2], [1, 2, 3], [1, 3], [2], [2, 3], [3]]"
      ]
     },
     "execution_count": 3,
     "metadata": {},
     "output_type": "execute_result"
    }
   ],
   "source": [
    "res = []\n",
    "index = 0\n",
    "def backtrace(path, nums, index):\n",
    "    res.append(path.copy())\n",
    "    if index <= len(nums)-1:\n",
    "        choose_list = nums[index:]\n",
    "    else:\n",
    "        return \n",
    "    for i,num in enumerate(choose_list):\n",
    "        path.append(num)\n",
    "        print(\"回退前\",path)\n",
    "        backtrace(path, nums, index + i + 1)\n",
    "        path.pop()\n",
    "        print(\"回退后\",path)\n",
    "backtrace([],[1,2,3],index)\n",
    "res"
   ]
  },
  {
   "cell_type": "markdown",
   "metadata": {},
   "source": [
    "**回溯算法总结**\n",
    "\n",
    "回溯问题实际上就是一个决策树的深度优先遍历过程，决策树的每个节点有以下属性：\n",
    "\n",
    "- 路径：已经做出的选择\n",
    "- 可选列表：当前可以做出的选择\n",
    "- 状态：包括深度，位置等，影响可选列表\n",
    "\n",
    "回溯算法还需要设置结束条件，即已经到达决策树底层，无法再进行选择操作。当触发到结束条件时，需要进行回退，即撤销此次做出的选择。回溯算法的代码框架如下："
   ]
  },
  {
   "cell_type": "code",
   "execution_count": null,
   "metadata": {},
   "outputs": [],
   "source": [
    "result = []\n",
    "def backtrack(路径, 选择列表):\n",
    "    if 满足结束条件:\n",
    "        result.append(路径)\n",
    "        return\n",
    "\n",
    "    for 选择 in 选择列表:\n",
    "        做选择\n",
    "        backtrack(路径, 选择列表)\n",
    "        撤销选择"
   ]
  },
  {
   "cell_type": "markdown",
   "metadata": {},
   "source": [
    "**本题特点**：\n",
    "\n",
    "- 在本题中，为了保证找到的子集不出现重复，选择列表可以定义为当前路径中最后一个元素在原数组中位置之后的元素，举例说明，当nums=[1,2,3,4]时，当前路径为[1,2],则可选择列表为[3,4],当前路径为[1,3]时，可选列表只有[4]，则不会出现[1,2,3]和[1,3,2]的重复。因此在回溯算法中需要定义当前节点的状态为路径中最后一个元素在原数组中的index,从而得到可选列表。\n",
    "- 本题要求解的是所有子集，即决策树中的所有节点都需要加入到最后的res结果中，而不是到决策树的底层才加入\n",
    "- 结束条件为可选列表为空，即决策树无法继续拓展\n",
    "- 需要注意变量path的地址始终为固定的，只是变量的取值在变，当遍历结束后位于决策树的根节点，即path=[]，在向结果列表中添加path的过程中，复制的是path的地址，即所有的path始终指向同一位置，因此会出现结果为res=[[],[],[],[]]的情况，此时需要在添加path过程中对path做一次拷贝。"
   ]
  },
  {
   "cell_type": "code",
   "execution_count": 4,
   "metadata": {},
   "outputs": [
    {
     "name": "stdout",
     "output_type": "stream",
     "text": [
      "回退前 [1]\n",
      "回退前 [1, 2]\n",
      "回退前 [1, 2, 3]\n",
      "回退后 [1, 2]\n",
      "回退后 [1]\n",
      "回退前 [1, 3]\n",
      "回退前 [1, 3, 2]\n",
      "回退后 [1, 3]\n",
      "回退后 [1]\n",
      "回退后 []\n",
      "回退前 [2]\n",
      "回退前 [2, 1]\n",
      "回退前 [2, 1, 3]\n",
      "回退后 [2, 1]\n",
      "回退后 [2]\n",
      "回退前 [2, 3]\n",
      "回退前 [2, 3, 1]\n",
      "回退后 [2, 3]\n",
      "回退后 [2]\n",
      "回退后 []\n",
      "回退前 [3]\n",
      "回退前 [3, 1]\n",
      "回退前 [3, 1, 2]\n",
      "回退后 [3, 1]\n",
      "回退后 [3]\n",
      "回退前 [3, 2]\n",
      "回退前 [3, 2, 1]\n",
      "回退后 [3, 2]\n",
      "回退后 [3]\n",
      "回退后 []\n"
     ]
    },
    {
     "data": {
      "text/plain": [
       "[[1, 2, 3], [1, 3, 2], [2, 1, 3], [2, 3, 1], [3, 1, 2], [3, 2, 1]]"
      ]
     },
     "execution_count": 4,
     "metadata": {},
     "output_type": "execute_result"
    }
   ],
   "source": [
    "# 全排列题目\n",
    "depth = 0\n",
    "res = []\n",
    "nums = [1,2,3]\n",
    "def backtrack(path,nums,depth):\n",
    "    if depth == len(nums):\n",
    "        res.append(path.copy())\n",
    "    for i in nums:\n",
    "        if i not in path:\n",
    "            path.append(i)\n",
    "            print(\"回退前\",path)\n",
    "            backtrack(path, nums, depth + 1)\n",
    "            path.pop()\n",
    "            print(\"回退后\",path)\n",
    "backtrack([],nums,depth)\n",
    "res"
   ]
  },
  {
   "cell_type": "code",
   "execution_count": null,
   "metadata": {},
   "outputs": [],
   "source": []
  }
 ],
 "metadata": {
  "kernelspec": {
   "display_name": "Python 3",
   "language": "python",
   "name": "python3"
  },
  "language_info": {
   "codemirror_mode": {
    "name": "ipython",
    "version": 3
   },
   "file_extension": ".py",
   "mimetype": "text/x-python",
   "name": "python",
   "nbconvert_exporter": "python",
   "pygments_lexer": "ipython3",
   "version": "3.7.3"
  }
 },
 "nbformat": 4,
 "nbformat_minor": 4
}
