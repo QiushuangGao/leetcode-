{
 "cells": [
  {
   "cell_type": "markdown",
   "metadata": {},
   "source": [
    "# 题目一 088合并两个有序数组"
   ]
  },
  {
   "cell_type": "markdown",
   "metadata": {},
   "source": [
    "### 题目描述"
   ]
  },
  {
   "cell_type": "markdown",
   "metadata": {},
   "source": [
    "给你两个有序整数数组 nums1 和 nums2，请你将 nums2 合并到 nums1 中，使 nums1 成为一个有序数组。\n",
    "\n",
    "初始化 nums1 和 nums2 的元素数量分别为 m 和 n 。你可以假设 nums1 有足够的空间（空间大小等于 m + n）来保存 nums2 中的元素。\n"
   ]
  },
  {
   "cell_type": "markdown",
   "metadata": {},
   "source": [
    "**示例1**\n",
    "```\n",
    "输入：nums1 = [1,2,3,0,0,0], m = 3, nums2 = [2,5,6], n = 3\n",
    "输出：[1,2,2,3,5,6]\n",
    "```"
   ]
  },
  {
   "cell_type": "markdown",
   "metadata": {},
   "source": [
    "**示例2**\n",
    "```\n",
    "输入：nums1 = [1], m = 1, nums2 = [], n = 0\n",
    "输出：[1]\n",
    "```"
   ]
  },
  {
   "cell_type": "markdown",
   "metadata": {},
   "source": [
    "### 实现"
   ]
  },
  {
   "cell_type": "code",
   "execution_count": 18,
   "metadata": {},
   "outputs": [
    {
     "name": "stdout",
     "output_type": "stream",
     "text": [
      "0 0 [1, 2, 3, 0, 0, 0] [2, 5, 6]\n",
      "1 0 [1, 2, 3, 0, 0, 0] [2, 5, 6]\n",
      "2 0 [1, 2, 3, 0, 0, 0] [2, 5, 6]\n",
      "3 1 [1, 2, 2, 3, 0, 0] [2, 5, 6]\n",
      "4 1 [1, 2, 2, 3, 0, 0] [2, 5, 6]\n"
     ]
    },
    {
     "data": {
      "text/plain": [
       "[1, 2, 2, 3, 5, 6]"
      ]
     },
     "execution_count": 18,
     "metadata": {},
     "output_type": "execute_result"
    }
   ],
   "source": [
    "nums1 = [1,2,3,0,0,0]\n",
    "nums2 = [2,5,6]\n",
    "m = 3\n",
    "n = 3\n",
    "if m == 0: \n",
    "    nums1[:] = nums2\n",
    "if n != 0:\n",
    "    i = 0\n",
    "    j = 0\n",
    "    while i < m + n and j < n:\n",
    "        print(i,j,nums1,nums2)\n",
    "        if i == m + j:\n",
    "            nums1[i:] = nums2[j:]\n",
    "            break\n",
    "        if nums2[j] < nums1[i]:\n",
    "            nums1[i+1:] = nums1[i:m+n-1]\n",
    "            nums1[i] = nums2[j]\n",
    "            i = i + 1\n",
    "            j = j + 1\n",
    "        else:\n",
    "            i = i + 1\n",
    "nums1"
   ]
  },
  {
   "cell_type": "markdown",
   "metadata": {},
   "source": [
    "**待优化**"
   ]
  },
  {
   "cell_type": "markdown",
   "metadata": {},
   "source": [
    "# 题目二 089格雷编码"
   ]
  },
  {
   "cell_type": "markdown",
   "metadata": {},
   "source": [
    "### 题目描述"
   ]
  },
  {
   "cell_type": "markdown",
   "metadata": {},
   "source": [
    "格雷编码是一个二进制数字系统，在该系统中，两个连续的数值仅有一个位数的差异。\n",
    "\n",
    "给定一个代表编码总位数的非负整数 n，打印其格雷编码序列。即使有多个不同答案，你也只需要返回其中一种。\n",
    "\n",
    "格雷编码序列必须以 0 开头。"
   ]
  },
  {
   "cell_type": "markdown",
   "metadata": {},
   "source": [
    "**示例1**\n",
    "```\n",
    "输入: 2\n",
    "输出: [0,1,3,2]\n",
    "解释:\n",
    "00 - 0\n",
    "01 - 1\n",
    "11 - 3\n",
    "10 - 2\n",
    "\n",
    "对于给定的 n，其格雷编码序列并不唯一。\n",
    "例如，[0,2,3,1] 也是一个有效的格雷编码序列。\n",
    "\n",
    "00 - 0\n",
    "10 - 2\n",
    "11 - 3\n",
    "01 - 1\n",
    "```"
   ]
  },
  {
   "cell_type": "markdown",
   "metadata": {},
   "source": [
    "**示例2**\n",
    "```\n",
    "输入: 0\n",
    "输出: [0]\n",
    "解释: 我们定义格雷编码序列必须以 0 开头。\n",
    "     给定编码总位数为 n 的格雷编码序列，其长度为 2n。当 n = 0 时，长度为 20 = 1。\n",
    "     因此，当 n = 0 时，其格雷编码序列为 [0]。\n",
    "```"
   ]
  },
  {
   "cell_type": "markdown",
   "metadata": {},
   "source": [
    "### 实现"
   ]
  },
  {
   "cell_type": "code",
   "execution_count": 23,
   "metadata": {},
   "outputs": [
    {
     "data": {
      "text/plain": [
       "[0, 1]"
      ]
     },
     "execution_count": 23,
     "metadata": {},
     "output_type": "execute_result"
    }
   ],
   "source": [
    "n = 1\n",
    "def backtrack(k,path,res):\n",
    "    if k == n:\n",
    "        res.append(path[:])\n",
    "        return\n",
    "    temp = []\n",
    "    for i in range(0,len(path),2):\n",
    "        temp.append(path[i]*2+0)\n",
    "        temp.append(path[i]*2+1)\n",
    "        temp.append(path[i+1]*2+1)\n",
    "        temp.append(path[i+1]*2+0)\n",
    "    backtrack(k+1,temp[:],res)\n",
    "\n",
    "if n == 0:\n",
    "    res = [0]\n",
    "elif n == 1:\n",
    "    res = [0,1]\n",
    "else:\n",
    "    path = [0,1]\n",
    "    res = []\n",
    "    backtrack(1,path,res)\n",
    "    res = res[0]\n",
    "res"
   ]
  },
  {
   "cell_type": "markdown",
   "metadata": {},
   "source": [
    "**待优化**"
   ]
  },
  {
   "cell_type": "markdown",
   "metadata": {},
   "source": [
    "# 题目三 104二叉树的最大深度"
   ]
  },
  {
   "cell_type": "markdown",
   "metadata": {},
   "source": [
    "### 题目描述"
   ]
  },
  {
   "cell_type": "markdown",
   "metadata": {},
   "source": [
    "给定一个二叉树，找出其最大深度。\n",
    "\n",
    "二叉树的深度为根节点到最远叶子节点的最长路径上的节点数。\n",
    "\n",
    "说明: 叶子节点是指没有子节点的节点。"
   ]
  },
  {
   "cell_type": "markdown",
   "metadata": {},
   "source": [
    "**示例**\n",
    "```\n",
    "给定二叉树 [3,9,20,null,null,15,7]，\n",
    "    3\n",
    "   / \\\n",
    "  9  20\n",
    "    /  \\\n",
    "   15   7\n",
    "返回它的最大深度 3 。\n",
    "```"
   ]
  },
  {
   "cell_type": "markdown",
   "metadata": {},
   "source": [
    "### 实现"
   ]
  },
  {
   "cell_type": "code",
   "execution_count": 27,
   "metadata": {},
   "outputs": [],
   "source": [
    "class TreeNode:\n",
    "    def __init__(self, val=0, left=None, right=None):\n",
    "        self.val = val\n",
    "        self.left = left\n",
    "        self.right = right\n",
    "nums = [3,9,20,'null','null',15,7]\n",
    "treenodes = [TreeNode(i) if i != 'null' else None for i in nums]\n",
    "for i in range(n):\n",
    "    treenodes[i].left = treenodes[i+1]\n",
    "    treenodes[i].right = treenodes[i+2]"
   ]
  },
  {
   "cell_type": "code",
   "execution_count": 28,
   "metadata": {},
   "outputs": [
    {
     "data": {
      "text/plain": [
       "[<__main__.TreeNode at 0x10d39fa20>,\n",
       " <__main__.TreeNode at 0x10d39f9e8>,\n",
       " <__main__.TreeNode at 0x10d39f9b0>,\n",
       " None,\n",
       " None,\n",
       " <__main__.TreeNode at 0x10d39fa90>,\n",
       " <__main__.TreeNode at 0x10d39fac8>]"
      ]
     },
     "execution_count": 28,
     "metadata": {},
     "output_type": "execute_result"
    }
   ],
   "source": [
    "treenodes"
   ]
  },
  {
   "cell_type": "code",
   "execution_count": null,
   "metadata": {},
   "outputs": [],
   "source": []
  }
 ],
 "metadata": {
  "kernelspec": {
   "display_name": "Python 3",
   "language": "python",
   "name": "python3"
  },
  "language_info": {
   "codemirror_mode": {
    "name": "ipython",
    "version": 3
   },
   "file_extension": ".py",
   "mimetype": "text/x-python",
   "name": "python",
   "nbconvert_exporter": "python",
   "pygments_lexer": "ipython3",
   "version": "3.7.3"
  }
 },
 "nbformat": 4,
 "nbformat_minor": 4
}
