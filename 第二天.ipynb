{
 "cells": [
  {
   "cell_type": "markdown",
   "metadata": {},
   "source": [
    "# 题目一 007整数反转"
   ]
  },
  {
   "cell_type": "markdown",
   "metadata": {},
   "source": [
    "### 题目描述"
   ]
  },
  {
   "cell_type": "markdown",
   "metadata": {},
   "source": [
    "给出一个 32 位的有符号整数，你需要将这个整数中每位上的数字进行反转。\n",
    "\n",
    "注意：\n",
    "\n",
    "假设我们的环境只能存储得下 32 位的有符号整数，则其数值范围为 $[-2^{31},  2^{31}-1]$。请根据这个假设，如果反转后整数溢出那么就返回 0"
   ]
  },
  {
   "cell_type": "markdown",
   "metadata": {},
   "source": [
    "**示例1**\n",
    "```\n",
    "输入：x = 123\n",
    "输出：321\n",
    "```"
   ]
  },
  {
   "cell_type": "markdown",
   "metadata": {},
   "source": [
    "**示例2**\n",
    "```\n",
    "输入：x = -123\n",
    "输出：-321\n",
    "```"
   ]
  },
  {
   "cell_type": "markdown",
   "metadata": {},
   "source": [
    "### 实现"
   ]
  },
  {
   "cell_type": "markdown",
   "metadata": {},
   "source": [
    "思路：将整数x转化为字符串，首先判断第一个字符是否为负号，如果是负号需要在结果中加上，倒序遍历字符串，将字符依次放入列表中。将列表重构成字符串再转化为整数，得到最终结果。对于注意中的数值范围进行判断，但实际上没有起到作用..."
   ]
  },
  {
   "cell_type": "code",
   "execution_count": 37,
   "metadata": {},
   "outputs": [
    {
     "data": {
      "text/plain": [
       "0"
      ]
     },
     "execution_count": 37,
     "metadata": {},
     "output_type": "execute_result"
    }
   ],
   "source": [
    "x = 0\n",
    "num = str(x)\n",
    "sign = ''\n",
    "ls = []\n",
    "if num[0] == '-':\n",
    "    sign = '-'\n",
    "for i in range(len(num)-1,len(sign)-1,-1):\n",
    "    ls.append(num[i]) \n",
    "if len(ls) == 0:\n",
    "    ls = ['0']\n",
    "res = int(sign+''.join(ls))\n",
    "if res < -2**or res > 2**31-1:\n",
    "    res = 0\n",
    "res"
   ]
  },
  {
   "cell_type": "markdown",
   "metadata": {},
   "source": [
    "- 时间复杂度：$O(n)$\n",
    "- 空间复杂度：$O(n)$"
   ]
  },
  {
   "cell_type": "markdown",
   "metadata": {},
   "source": [
    "### 实现结果"
   ]
  },
  {
   "cell_type": "markdown",
   "metadata": {},
   "source": [
    "- 执行时间：40ms, 在所有 Python3 提交中击败了74.19%的用户\n",
    "- 内存消耗：14.8 MB, 在所有 Python3 提交中击败了8.16%的用户"
   ]
  },
  {
   "cell_type": "markdown",
   "metadata": {},
   "source": [
    "### 其他方法借鉴"
   ]
  },
  {
   "cell_type": "markdown",
   "metadata": {},
   "source": [
    "每次构造反转整数的一位数字，为了防止溢出可以在每次添加一位时检查是否会溢出。当前反转整数设为rev,下一位设为pop,添加下一位后的结果为rev*10+pop,溢出的条件为：\n",
    "- 如果rev为正数：rev*10+pop>int_max\n",
    "    - 如果rev > int_max/10,则一定会溢出\n",
    "    - 如果rev = int_max/10,则当pop>7时会溢出\n",
    "- 如果rev为负数：rev*10+pop<int_min\n",
    "    - 如果rev < int_min/10,则一定会溢出\n",
    "    - 如果rev = int_min/10,则pop<-8时会溢出"
   ]
  },
  {
   "cell_type": "markdown",
   "metadata": {},
   "source": [
    "需要注意的是由于Python中的整除为向下取整除法，即-3//2 = -2,取模同理-3%2 = 1,所以为了得到单个位数在取模和整除时要注意处理"
   ]
  },
  {
   "cell_type": "code",
   "execution_count": 48,
   "metadata": {},
   "outputs": [
    {
     "data": {
      "text/plain": [
       "-321"
      ]
     },
     "execution_count": 48,
     "metadata": {},
     "output_type": "execute_result"
    }
   ],
   "source": [
    "x = -123\n",
    "rev = 0\n",
    "int_max = 2 ** 31 - 1\n",
    "int_min = -2 ** 31\n",
    "while x != 0:\n",
    "    if x < 0:\n",
    "        pop =  - (abs(x) % 10)\n",
    "    else:\n",
    "        pop = x % 10\n",
    "    x = int(x / 10)\n",
    "    if rev > int_max // 10 or (rev == int_max // 10 and pop > 7):\n",
    "        rev = 0\n",
    "        break\n",
    "    elif rev < int(int_min / 10) or (rev == int(int_min / 10) and pop < -8):\n",
    "        rev = 0\n",
    "        break\n",
    "    else:\n",
    "        rev = rev * 10 + pop\n",
    "rev"
   ]
  },
  {
   "cell_type": "markdown",
   "metadata": {},
   "source": [
    "- 时间复杂度：$O(\\log(n))$\n",
    "- 空间复杂度: $O(1)$"
   ]
  },
  {
   "cell_type": "markdown",
   "metadata": {},
   "source": [
    "### 实现结果"
   ]
  },
  {
   "cell_type": "markdown",
   "metadata": {},
   "source": [
    "- 执行时间：44ms, 在所有 Python3 提交中击败了51.47%的用户\n",
    "- 内存消耗：14.8 MB, 在所有 Python3 提交中击败了11.03%的用户"
   ]
  },
  {
   "cell_type": "markdown",
   "metadata": {},
   "source": [
    "# 题目二 008字符串转换整数 (atoi)"
   ]
  },
  {
   "cell_type": "markdown",
   "metadata": {},
   "source": [
    "### 题目描述"
   ]
  },
  {
   "cell_type": "markdown",
   "metadata": {},
   "source": [
    "请你来实现一个 atoi 函数，使其能将字符串转换成整数。\n",
    "\n",
    "首先，该函数会根据需要丢弃无用的开头空格字符，直到寻找到第一个非空格的字符为止。接下来的转化规则如下：\n",
    "\n",
    "- 如果第一个非空字符为正或者负号时，则将该符号与之后面尽可能多的连续数字字符组合起来，形成一个有符号整数。\n",
    "- 假如第一个非空字符是数字，则直接将其与之后连续的数字字符组合起来，形成一个整数。\n",
    "- 该字符串在有效的整数部分之后也可能会存在多余的字符，那么这些字符可以被忽略，它们对函数不应该造成影响。\n",
    "\n",
    "假如该字符串中的第一个非空格字符不是一个有效整数字符、字符串为空或字符串仅包含空白字符时，则你的函数不需要进行转换，即无法进行有效转换。\n",
    "\n",
    "在任何情况下，若函数不能进行有效的转换时，请返回 0 。\n",
    "\n",
    "注意：\n",
    "\n",
    "- 本题中的空白字符只包括空格字符 ' ' 。\n",
    "- 假设我们的环境只能存储 32 位大小的有符号整数，那么其数值范围为$[−2^{31},  2^{31} − 1]$。如果数值超过这个范围，请返回  $2^{31} - 1$ 或 $-2^{31}$ 。\n",
    "\n"
   ]
  },
  {
   "cell_type": "markdown",
   "metadata": {},
   "source": [
    "### 实现"
   ]
  },
  {
   "cell_type": "markdown",
   "metadata": {},
   "source": [
    "注意在得到第一个有效字符后，即得到正负号或数字字符后，要将其余其后**连续的**数字字符相连，即如果出现其他字符，则停止遍历"
   ]
  },
  {
   "cell_type": "code",
   "execution_count": 81,
   "metadata": {},
   "outputs": [
    {
     "data": {
      "text/plain": [
       "0"
      ]
     },
     "execution_count": 81,
     "metadata": {},
     "output_type": "execute_result"
    }
   ],
   "source": [
    "s = \"+-12\"\n",
    "flag = 0\n",
    "sign = ''\n",
    "res = 0\n",
    "for i in s:\n",
    "    if i != ' ':\n",
    "        flag += 1\n",
    "    if flag == 1: # 第一个有效字符\n",
    "        if i == '+' or i == '-':\n",
    "            sign = i\n",
    "            flag += 1\n",
    "        elif i.isdigit():\n",
    "            res = - int(i) if sign == '-' else int(i)\n",
    "            flag += 1\n",
    "        else:\n",
    "            res = 0\n",
    "            break\n",
    "    elif flag > 1:\n",
    "        if i.isdigit():\n",
    "            pop = - int(i) if sign == '-' else int(i)\n",
    "            exceed_flag, res = if_exceed(res,pop)\n",
    "            if exceed_flag:\n",
    "                break\n",
    "        else:\n",
    "            break\n",
    "res"
   ]
  },
  {
   "cell_type": "markdown",
   "metadata": {},
   "source": [
    "输入当前整数与要添加的个位数，判断添加后是否超过范围，如果超过则返回最近的范围，flag = True,即可以停止后续遍历，否则flag=True,更新当前整数"
   ]
  },
  {
   "cell_type": "code",
   "execution_count": 69,
   "metadata": {},
   "outputs": [],
   "source": [
    "def if_exceed(rev,pop):\n",
    "    flag = True\n",
    "    if rev > int_max // 10 or (rev == int_max // 10 and pop > 7):\n",
    "        rev = int_max\n",
    "    elif rev < int(int_min / 10) or (rev == int(int_min / 10) and pop < -8):\n",
    "        rev = int_min\n",
    "    else:\n",
    "        rev = rev * 10 + pop\n",
    "        flag = False\n",
    "    return flag,rev"
   ]
  },
  {
   "cell_type": "markdown",
   "metadata": {},
   "source": [
    "- 时间复杂度：$O(n)$\n",
    "- 空间复杂度：$O(n)$"
   ]
  },
  {
   "cell_type": "markdown",
   "metadata": {},
   "source": [
    "### 实现结果"
   ]
  },
  {
   "cell_type": "markdown",
   "metadata": {},
   "source": [
    "- 执行时间：44ms, 在所有 Python3 提交中击败了65.35%的用户\n",
    "- 内存消耗：14.9 MB, 在所有 Python3 提交中击败了10.10%的用户"
   ]
  },
  {
   "cell_type": "markdown",
   "metadata": {},
   "source": [
    "# 题目三 009回文数"
   ]
  },
  {
   "cell_type": "markdown",
   "metadata": {},
   "source": [
    "### 题目描述"
   ]
  },
  {
   "cell_type": "markdown",
   "metadata": {},
   "source": [
    "判断一个整数是否是回文数。回文数是指正序（从左向右）和倒序（从右向左）读都是一样的整数。"
   ]
  },
  {
   "cell_type": "markdown",
   "metadata": {},
   "source": [
    "**示例1**\n",
    "```\n",
    "输入: 121\n",
    "输出: true\n",
    "```"
   ]
  },
  {
   "cell_type": "markdown",
   "metadata": {},
   "source": [
    "**示例2**\n",
    "```\n",
    "输入: -121\n",
    "输出: false\n",
    "解释: 从左向右读, 为 -121 。 从右向左读, 为 121- 。因此它不是一个回文数。\n",
    "```"
   ]
  },
  {
   "cell_type": "markdown",
   "metadata": {},
   "source": [
    "### 实现"
   ]
  },
  {
   "cell_type": "markdown",
   "metadata": {},
   "source": [
    "将整数转化为字符串，定义两个指针分别在字符串的首尾位置，比较指针对应的字符是否相同，如果不同则停止遍历，返回False,如果相同则将两指针向中间位置移动，直到到达字符串终点。"
   ]
  },
  {
   "cell_type": "code",
   "execution_count": 6,
   "metadata": {},
   "outputs": [
    {
     "name": "stdout",
     "output_type": "stream",
     "text": [
      "0 1\n"
     ]
    },
    {
     "data": {
      "text/plain": [
       "False"
      ]
     },
     "execution_count": 6,
     "metadata": {},
     "output_type": "execute_result"
    }
   ],
   "source": [
    "s = str(x)\n",
    "i = 0\n",
    "j = len(s)-1\n",
    "flag = True\n",
    "while i <= j:\n",
    "    print(i,j)\n",
    "    if s[i] == s[j]:\n",
    "        i += 1\n",
    "        j -= 1\n",
    "    else:\n",
    "        flag = False\n",
    "        break\n",
    "flag"
   ]
  },
  {
   "cell_type": "markdown",
   "metadata": {},
   "source": [
    "- 时间复杂度：$O(n)$\n",
    "- 空间复杂度：$O(1)$"
   ]
  },
  {
   "cell_type": "markdown",
   "metadata": {},
   "source": [
    "### 实现结果"
   ]
  },
  {
   "cell_type": "markdown",
   "metadata": {},
   "source": [
    "- 执行时间：76ms, 在所有 Python3 提交中击败了65.99%的用户\n",
    "- 内存消耗：14.8MB, 在所有 Python3 提交中击败了12.02%的用户"
   ]
  },
  {
   "cell_type": "markdown",
   "metadata": {},
   "source": [
    "### 进阶"
   ]
  },
  {
   "cell_type": "markdown",
   "metadata": {},
   "source": [
    "不将整数转为字符串来解决这个问题。\n",
    "\n",
    "解题思路：\n",
    "- 当整数为负数时，一定不是一个回文数\n",
    "- 当整数为正数时，获得整数的首尾位置数字，比较是否相同，随后将整数进行更新，得到去掉首尾数字后的整数\n",
    "得到数字的首位数字时需要已知数字的总位数，通过判断s//10^l是否大于0的方式来判断s的位数是否大于l，进行while循环得到最终长度l\n",
    "在每次去掉首尾两位数字后，更新后的整数位数减少了2，需要将对应的长度同时进行更新"
   ]
  },
  {
   "cell_type": "code",
   "execution_count": 19,
   "metadata": {},
   "outputs": [
    {
     "name": "stdout",
     "output_type": "stream",
     "text": [
      "1 1\n",
      "2\n",
      "0 2\n"
     ]
    },
    {
     "data": {
      "text/plain": [
       "False"
      ]
     },
     "execution_count": 19,
     "metadata": {},
     "output_type": "execute_result"
    }
   ],
   "source": [
    "s = 1000021\n",
    "flag = True\n",
    "if s < 0:\n",
    "    flag = False\n",
    "else:\n",
    "    l = 0\n",
    "    while s//10**l > 0:\n",
    "        l = l + 1\n",
    "    while s > 0:\n",
    "        i = s // 10**(l-1)\n",
    "        j = s % 10\n",
    "        print(i,j)\n",
    "        if i == j:\n",
    "            s = (s % 10**(l-1))//10\n",
    "            print(s)\n",
    "            l -= 2\n",
    "        else:\n",
    "            flag = False\n",
    "            break\n",
    "flag"
   ]
  },
  {
   "cell_type": "markdown",
   "metadata": {},
   "source": [
    "由于求次方操作较慢，进行优化："
   ]
  },
  {
   "cell_type": "code",
   "execution_count": 26,
   "metadata": {},
   "outputs": [
    {
     "name": "stdout",
     "output_type": "stream",
     "text": [
      "1 1\n",
      "2\n",
      "0 2\n"
     ]
    },
    {
     "data": {
      "text/plain": [
       "False"
      ]
     },
     "execution_count": 26,
     "metadata": {},
     "output_type": "execute_result"
    }
   ],
   "source": [
    "s = 1000021\n",
    "flag = True\n",
    "if s < 0:\n",
    "    flag = False\n",
    "else:\n",
    "    l = 1\n",
    "    while s//l >= 10:\n",
    "        l = l * 10\n",
    "    while s > 0:\n",
    "        i = s // l\n",
    "        j = s % 10\n",
    "        print(i,j)\n",
    "        if i == j:\n",
    "            s = (s % l)//10\n",
    "            print(s)\n",
    "            l = l // 100\n",
    "        else:\n",
    "            flag = False\n",
    "            break\n",
    "flag"
   ]
  },
  {
   "cell_type": "markdown",
   "metadata": {},
   "source": [
    "### 实现结果\n"
   ]
  },
  {
   "cell_type": "markdown",
   "metadata": {},
   "source": [
    "- 执行时间：140ms, 在所有 Python3 提交中击败了5.65%的用户\n",
    "- 内存消耗：15MB, 在所有 Python3 提交中击败了5.34%的用户"
   ]
  },
  {
   "cell_type": "markdown",
   "metadata": {},
   "source": [
    "### 其他方法借鉴"
   ]
  },
  {
   "cell_type": "markdown",
   "metadata": {},
   "source": [
    "**反转一半数字**\n",
    "\n",
    "取出后半段数字进行反转，比较反转后数字与原数字，如果整数位数为偶数，则反转数字和原数字应该相同，相当于得到把原数字对折的结果，如果整数位数是奇数，则原数字应该比反转数字多一位"
   ]
  },
  {
   "cell_type": "code",
   "execution_count": 37,
   "metadata": {},
   "outputs": [
    {
     "name": "stdout",
     "output_type": "stream",
     "text": [
      "0 10\n"
     ]
    },
    {
     "data": {
      "text/plain": [
       "False"
      ]
     },
     "execution_count": 37,
     "metadata": {},
     "output_type": "execute_result"
    }
   ],
   "source": [
    "s = 10\n",
    "rev = 0\n",
    "if s < 0 or (s % 10 == 0 and s!=0): # 负数或以0结尾的数一定不是回文数\n",
    "    flag = False\n",
    "else:\n",
    "    while s > rev: # 保证只反转一般\n",
    "        tail = s % 10 # 结尾数字\n",
    "        rev = rev * 10 + tail\n",
    "        s = s // 10\n",
    "    if rev == s or s == int(rev / 10):\n",
    "        flag = True\n",
    "    else:\n",
    "        flag = False\n",
    "print(rev,s)\n",
    "flag"
   ]
  },
  {
   "cell_type": "markdown",
   "metadata": {},
   "source": [
    "- 时间复杂度：$O(n/2)$\n",
    "- 空间复杂度：$O(1)$"
   ]
  },
  {
   "cell_type": "markdown",
   "metadata": {},
   "source": [
    "### 实现结果"
   ]
  },
  {
   "cell_type": "markdown",
   "metadata": {},
   "source": [
    "- 执行时间：64ms, 在所有 Python3 提交中击败了92.97%的用户\n",
    "- 内存消耗：14.9MB, 在所有 Python3 提交中击败了5.34%的用户"
   ]
  },
  {
   "cell_type": "code",
   "execution_count": null,
   "metadata": {},
   "outputs": [],
   "source": []
  }
 ],
 "metadata": {
  "kernelspec": {
   "display_name": "Python 3",
   "language": "python",
   "name": "python3"
  },
  "language_info": {
   "codemirror_mode": {
    "name": "ipython",
    "version": 3
   },
   "file_extension": ".py",
   "mimetype": "text/x-python",
   "name": "python",
   "nbconvert_exporter": "python",
   "pygments_lexer": "ipython3",
   "version": "3.7.3"
  }
 },
 "nbformat": 4,
 "nbformat_minor": 4
}
