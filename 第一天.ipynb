{
 "cells": [
  {
   "cell_type": "markdown",
   "metadata": {},
   "source": [
    "题目一  002两数相加\n",
    "=================="
   ]
  },
  {
   "cell_type": "markdown",
   "metadata": {},
   "source": [
    "### 题目描述"
   ]
  },
  {
   "cell_type": "markdown",
   "metadata": {},
   "source": [
    "给你两个非空的链表，表示两个**非负**的整数。它们每位数字都是按照**逆序**的方式存储的，并且每个节点只能存储**一位**数字。\n",
    "\n",
    "请你将两个数相加，并以相同形式返回一个表示和的链表。\n",
    "\n",
    "你可以假设除了数字 0 之外，这两个数都不会以 0 开头。"
   ]
  },
  {
   "cell_type": "markdown",
   "metadata": {},
   "source": [
    "**示例1**"
   ]
  },
  {
   "cell_type": "markdown",
   "metadata": {},
   "source": [
    "  输入：l1 = 2->4->3, l2 = 5->6->4\n",
    "  输出：7->0->8\n",
    "  解释：342 + 465 = 807."
   ]
  },
  {
   "cell_type": "markdown",
   "metadata": {},
   "source": [
    "**示例2**"
   ]
  },
  {
   "cell_type": "markdown",
   "metadata": {},
   "source": [
    "输入：l1 = 9->9->9->9->9->9->9, l2 = 9->9->9->9\n",
    "输出：8->9->9->9->0->0->0->1\n",
    "解释：99999999 + 9999 = 1000998."
   ]
  },
  {
   "cell_type": "markdown",
   "metadata": {},
   "source": [
    "### 实现"
   ]
  },
  {
   "cell_type": "markdown",
   "metadata": {},
   "source": [
    "将列表转化为链表对象"
   ]
  },
  {
   "cell_type": "code",
   "execution_count": 43,
   "metadata": {},
   "outputs": [],
   "source": [
    "class ListNode:\n",
    "    def __init__(self, val=0, next=None):\n",
    "        self.val = val\n",
    "        self.next = next\n",
    "def generate_listnode(lis):\n",
    "    ln = [ListNode(i) for i in lis]\n",
    "    for i in range(len(ln)-1):\n",
    "        ln[i].next = ln[i+1]\n",
    "    return ln[0]\n",
    "ln1 = [2,4,3]\n",
    "ln2 = [5,6,4]\n",
    "l1 = generate_listnode(ln1)\n",
    "l2 = generate_listnode(ln2)"
   ]
  },
  {
   "cell_type": "markdown",
   "metadata": {},
   "source": [
    "根据链表对象获取数字列表"
   ]
  },
  {
   "cell_type": "code",
   "execution_count": 44,
   "metadata": {},
   "outputs": [],
   "source": [
    "def get_nums(ln):\n",
    "    i = ln\n",
    "    nums = [i.val]\n",
    "    while i.next:\n",
    "        i = i.next\n",
    "        nums.append(i.val)\n",
    "    return nums\n",
    "nums1 = get_nums(l1)\n",
    "nums2 = get_nums(l2)"
   ]
  },
  {
   "cell_type": "markdown",
   "metadata": {},
   "source": [
    "将两个数字列表相加，数字列表是倒序排列，依次将两个列表上同位上的元素相加，将和除以10的余数作为求和的该位元素，同时记录是否进位。"
   ]
  },
  {
   "cell_type": "code",
   "execution_count": 45,
   "metadata": {},
   "outputs": [],
   "source": [
    "n1, n2 = len(nums1), len(nums2)\n",
    "if n1 < n2:\n",
    "    nums1, nums2 = nums2, nums1\n",
    "results = []\n",
    "tmp = 0\n",
    "for i in range(len(nums1)):\n",
    "    if i < len(nums2):\n",
    "        a = nums1[i]\n",
    "        b = nums2[i]\n",
    "        c = (a + b + tmp) % 10\n",
    "        tmp = (a + b + tmp) // 10\n",
    "        results.append(c)\n",
    "    else:\n",
    "        a = nums1[i]\n",
    "        c = (a + tmp) % 10\n",
    "        tmp = (a + tmp) // 10\n",
    "        results.append(c)\n",
    "if tmp != 0:\n",
    "    results.append(tmp)\n",
    "result = generate_listnode(results)"
   ]
  },
  {
   "cell_type": "code",
   "execution_count": 46,
   "metadata": {},
   "outputs": [
    {
     "name": "stdout",
     "output_type": "stream",
     "text": [
      "[7, 0, 8]\n"
     ]
    }
   ],
   "source": [
    "print(get_nums(result))"
   ]
  },
  {
   "cell_type": "markdown",
   "metadata": {},
   "source": [
    "### 代码汇总"
   ]
  },
  {
   "cell_type": "code",
   "execution_count": 47,
   "metadata": {},
   "outputs": [],
   "source": [
    "# Definition for singly-linked list.\n",
    "# class ListNode:\n",
    "#     def __init__(self, val=0, next=None):\n",
    "#         self.val = val\n",
    "#         self.next = next\n",
    "class Solution:\n",
    "    def addTwoNumbers(self, l1: ListNode, l2: ListNode) -> ListNode:\n",
    "        def get_nums(ln):\n",
    "            i = ln\n",
    "            nums = [i.val]\n",
    "            while i.next:\n",
    "                i = i.next\n",
    "                nums.append(i.val)\n",
    "            return nums\n",
    "        def generate_listnode(lis):\n",
    "            ln = [ListNode(i) for i in lis]\n",
    "            for i in range(len(ln)-1):\n",
    "                ln[i].next = ln[i+1]\n",
    "            return ln[0]\n",
    "        nums1 = get_nums(l1)\n",
    "        nums2 = get_nums(l2)\n",
    "        n1, n2 = len(nums1), len(nums2)\n",
    "        if n1 < n2:\n",
    "            nums1, nums2 = nums2, nums1\n",
    "        results = []\n",
    "        tmp = 0\n",
    "        for i in range(len(nums1)):\n",
    "            if i < len(nums2):\n",
    "                a = nums1[i]\n",
    "                b = nums2[i]\n",
    "                c = (a + b + tmp) % 10\n",
    "                tmp = (a + b + tmp) // 10\n",
    "                results.append(c)\n",
    "            else:\n",
    "                a = nums1[i]\n",
    "                c = (a + tmp) % 10\n",
    "                tmp = (a + tmp) // 10\n",
    "                results.append(c)\n",
    "        if tmp != 0:\n",
    "            results.append(tmp) # 如果按位求和结束后仍需进位，就在最后加上一位1\n",
    "        return generate_listnode(results)\n"
   ]
  },
  {
   "cell_type": "markdown",
   "metadata": {},
   "source": [
    "### 实现结果"
   ]
  },
  {
   "cell_type": "markdown",
   "metadata": {},
   "source": [
    "- 执行时间：68ms, 在所有 Python3 提交中击败了94.44%的用户\n",
    "- 内存消耗：14.9 MB, 在所有 Python3 提交中击败了7.71%的用户"
   ]
  },
  {
   "cell_type": "markdown",
   "metadata": {},
   "source": [
    "### 其他解法借鉴"
   ]
  },
  {
   "cell_type": "markdown",
   "metadata": {},
   "source": [
    "查看leetcode题解，发现可以不需要进行链表和列表之间的转换，而是利用链表特性进行操作\n",
    "\n",
    "技巧：\n",
    "- 将两个链表看成相同长度，对于较短的链表就在后面补0\n",
    "- 对于链表问题，返回结果为头结点时，通常需要初始化一个预先指针pre,该指针的下一个节点指向真正的头指针head.**使用预先指针的目的在于链表初始化时无可用节点值，而且链表构造过程需要指针移动，进而会导致头指针丢失，无法返回结果。**"
   ]
  },
  {
   "cell_type": "code",
   "execution_count": 67,
   "metadata": {},
   "outputs": [],
   "source": [
    "class ListNode:\n",
    "    def __init__(self, val=0, next=None):\n",
    "        self.val = val\n",
    "        self.next = next\n",
    "def generate_listnode(lis):\n",
    "    ln = [ListNode(i) for i in lis]\n",
    "    for i in range(len(ln)-1):\n",
    "        ln[i].next = ln[i+1]\n",
    "    return ln[0]\n",
    "ln1 = [2,4,3]\n",
    "ln2 = [5,6,4]\n",
    "l1 = generate_listnode(ln1)\n",
    "l2 = generate_listnode(ln2)"
   ]
  },
  {
   "cell_type": "code",
   "execution_count": 68,
   "metadata": {},
   "outputs": [
    {
     "data": {
      "text/plain": [
       "[7, 0, 8]"
      ]
     },
     "execution_count": 68,
     "metadata": {},
     "output_type": "execute_result"
    }
   ],
   "source": [
    "pre = ListNode(0)\n",
    "cur = pre\n",
    "tmp = 0 # 进位\n",
    "while (l1 != None or l2 != None):\n",
    "    a = l1.val if l1 != None else 0\n",
    "    b = l2.val if l2 != None else 0\n",
    "    c = (a + b + tmp) % 10\n",
    "    tmp = (a + b + tmp) // 10\n",
    "    \n",
    "    cur.next = ListNode(c)\n",
    "    \n",
    "    l1 = l1.next if l1 else l1\n",
    "    l2 = l2.next if l2 else l2\n",
    "    cur = cur.next\n",
    "if tmp != 0:\n",
    "    cur.next = ListNode(tmp)\n",
    "get_nums(pre.next)"
   ]
  },
  {
   "cell_type": "markdown",
   "metadata": {},
   "source": [
    "### 实现结果"
   ]
  },
  {
   "cell_type": "markdown",
   "metadata": {},
   "source": [
    "- 执行时间：76ms, 在所有 Python3 提交中击败了74.65%的用户\n",
    "- 内存消耗：14.7 MB, 在所有 Python3 提交中击败了17.53%的用户"
   ]
  },
  {
   "cell_type": "markdown",
   "metadata": {},
   "source": [
    "题目二  004寻找两个正序数组的中位数\n",
    "=================="
   ]
  },
  {
   "cell_type": "markdown",
   "metadata": {},
   "source": [
    "### 题目描述"
   ]
  },
  {
   "cell_type": "markdown",
   "metadata": {},
   "source": [
    "给定两个大小为 m 和 n 的正序（从小到大）数组 nums1 和 nums2。请你找出并返回这两个正序数组的中位数。\n",
    "\n",
    "进阶：你能设计一个时间复杂度为`O(log (m+n))`的算法解决此问题吗？"
   ]
  },
  {
   "cell_type": "markdown",
   "metadata": {},
   "source": [
    "**示例1**"
   ]
  },
  {
   "cell_type": "markdown",
   "metadata": {},
   "source": [
    "```c\n",
    "输入：nums1 = [1,3], nums2 = [2]\n",
    "输出：2.00000\n",
    "解释：合并数组 = [1,2,3] ，中位数 2\n",
    "```"
   ]
  },
  {
   "cell_type": "markdown",
   "metadata": {},
   "source": [
    "**示例2**"
   ]
  },
  {
   "cell_type": "markdown",
   "metadata": {},
   "source": [
    "```c\n",
    "输入：nums1 = [1,2], nums2 = [3,4]\n",
    "输出：2.50000\n",
    "解释：合并数组 = [1,2,3,4] ,中位数 (2 + 3) / 2 = 2.5\n",
    "```"
   ]
  },
  {
   "cell_type": "markdown",
   "metadata": {},
   "source": [
    "### 实现"
   ]
  },
  {
   "cell_type": "code",
   "execution_count": 81,
   "metadata": {},
   "outputs": [
    {
     "data": {
      "text/plain": [
       "[-2, -1, 3]"
      ]
     },
     "execution_count": 81,
     "metadata": {},
     "output_type": "execute_result"
    }
   ],
   "source": [
    "nums1 = [3]\n",
    "nums2 = [-2, -1]\n",
    "if len(nums1) == 0:\n",
    "    combined = nums2\n",
    "elif len(nums2) == 0:\n",
    "    combined = nums1\n",
    "else:\n",
    "    i,j = 0,0\n",
    "    combined = []\n",
    "    while i < len(nums1) and j < len(nums2):\n",
    "        if nums1[i] <= nums2[j]:\n",
    "            combined.append(nums1[i])\n",
    "            i = i + 1\n",
    "        else:\n",
    "            combined.append(nums2[j])\n",
    "            j = j + 1\n",
    "    if i == len(nums1) and j != len(nums2):\n",
    "        combined += nums2[j:]\n",
    "    elif j == len(nums2) and i != len(nums1):\n",
    "        combined += nums1[i:]\n",
    "combined"
   ]
  },
  {
   "cell_type": "code",
   "execution_count": 82,
   "metadata": {},
   "outputs": [
    {
     "data": {
      "text/plain": [
       "-1"
      ]
     },
     "execution_count": 82,
     "metadata": {},
     "output_type": "execute_result"
    }
   ],
   "source": [
    "if len(combined)%2 == 0:\n",
    "    idx = len(combined)// 2\n",
    "    res = (combined[idx-1] + combined[idx]) / 2\n",
    "else:\n",
    "    idx = (len(combined) - 1) // 2\n",
    "    res = combined[idx]\n",
    "res"
   ]
  },
  {
   "cell_type": "markdown",
   "metadata": {},
   "source": [
    "### 实现结果"
   ]
  },
  {
   "cell_type": "markdown",
   "metadata": {},
   "source": [
    "- 执行时间：60ms, 在所有 Python3 提交中击败了36.71%的用户\n",
    "- 内存消耗：15.1 MB, 在所有 Python3 提交中击败了5.03%的用户"
   ]
  },
  {
   "cell_type": "markdown",
   "metadata": {},
   "source": [
    "# 题目三 005最长回文子串"
   ]
  },
  {
   "cell_type": "markdown",
   "metadata": {},
   "source": [
    "### 题目描述"
   ]
  },
  {
   "cell_type": "markdown",
   "metadata": {},
   "source": [
    "给你一个字符串`s`，找到`s`中最长的回文子串。"
   ]
  },
  {
   "cell_type": "markdown",
   "metadata": {},
   "source": [
    "**示例1**"
   ]
  },
  {
   "cell_type": "markdown",
   "metadata": {},
   "source": [
    "```\n",
    "输入：s = \"babad\"\n",
    "输出：\"bab\"\n",
    "解释：\"aba\" 同样是符合题意的答案。\n",
    "```"
   ]
  },
  {
   "cell_type": "markdown",
   "metadata": {},
   "source": [
    "**示例2**"
   ]
  },
  {
   "cell_type": "markdown",
   "metadata": {},
   "source": [
    "```\n",
    "输入：s = \"cbbd\"\n",
    "输出：\"bb\"\n",
    "```"
   ]
  },
  {
   "cell_type": "markdown",
   "metadata": {},
   "source": [
    "### 实现"
   ]
  },
  {
   "cell_type": "markdown",
   "metadata": {},
   "source": [
    "首先给定字符串和一个位置，计算以该位置为中心的最长回文字符串的长度，如果长度为偶数，则需要两个中心，使用双指针法比较两个指针对应的元素是否相同"
   ]
  },
  {
   "cell_type": "code",
   "execution_count": 102,
   "metadata": {},
   "outputs": [
    {
     "data": {
      "text/plain": [
       "''"
      ]
     },
     "execution_count": 102,
     "metadata": {},
     "output_type": "execute_result"
    }
   ],
   "source": [
    "s = \"a\"\n",
    "def getsubstr(s, l, r):\n",
    "    while l >= 0 and r < len(s) and s[l] == s[r]:\n",
    "        l -= 1\n",
    "        r += 1\n",
    "    return s[l+1 : r]"
   ]
  },
  {
   "cell_type": "code",
   "execution_count": 103,
   "metadata": {},
   "outputs": [
    {
     "data": {
      "text/plain": [
       "'a'"
      ]
     },
     "execution_count": 103,
     "metadata": {},
     "output_type": "execute_result"
    }
   ],
   "source": [
    "res = ''\n",
    "for i in range(len(s)):\n",
    "    sub1 = getsubstr(s,i,i)\n",
    "    sub2 = getsubstr(s,i,i+1)\n",
    "    sub = sub1 if len(sub1) > len(sub2) else sub2\n",
    "    res = sub if len(sub) > len(res) else res\n",
    "res"
   ]
  },
  {
   "cell_type": "markdown",
   "metadata": {},
   "source": [
    "### 实现结果"
   ]
  },
  {
   "cell_type": "markdown",
   "metadata": {},
   "source": [
    "- 执行时间：968ms, 在所有 Python3 提交中击败了68.05%的用户\n",
    "- 内存消耗：14.8MB, 在所有 Python3 提交中击败了51.18%的用户"
   ]
  },
  {
   "cell_type": "code",
   "execution_count": null,
   "metadata": {},
   "outputs": [],
   "source": []
  }
 ],
 "metadata": {
  "kernelspec": {
   "display_name": "Python 3",
   "language": "python",
   "name": "python3"
  },
  "language_info": {
   "codemirror_mode": {
    "name": "ipython",
    "version": 3
   },
   "file_extension": ".py",
   "mimetype": "text/x-python",
   "name": "python",
   "nbconvert_exporter": "python",
   "pygments_lexer": "ipython3",
   "version": "3.7.3"
  }
 },
 "nbformat": 4,
 "nbformat_minor": 4
}
