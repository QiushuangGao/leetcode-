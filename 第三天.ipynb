{
 "cells": [
  {
   "cell_type": "markdown",
   "metadata": {},
   "source": [
    "# 题目一 011盛最多水的容器"
   ]
  },
  {
   "cell_type": "markdown",
   "metadata": {},
   "source": [
    "### 题目描述"
   ]
  },
  {
   "cell_type": "markdown",
   "metadata": {},
   "source": [
    "给你 n 个非负整数 a1，a2，...，an，每个数代表坐标中的一个点 (i, ai) 。在坐标内画 n 条垂直线，垂直线 i 的两个端点分别为 (i, ai) 和 (i, 0) 。找出其中的两条线，使得它们与 x 轴共同构成的容器可以容纳最多的水。\n",
    "\n",
    "说明：你不能倾斜容器。\n",
    "\n"
   ]
  },
  {
   "cell_type": "markdown",
   "metadata": {},
   "source": [
    "**示例1**\n",
    "```\n",
    "输入：[1,8,6,2,5,4,8,3,7]\n",
    "输出：49 \n",
    "解释：图中垂直线代表输入数组 [1,8,6,2,5,4,8,3,7]。在此情况下，容器能够容纳水（表示为蓝色部分）的最大值为 49。\n",
    "\n",
    "```\n"
   ]
  },
  {
   "cell_type": "markdown",
   "metadata": {},
   "source": [
    "**示例2**\n",
    "```\n",
    "输入：height = [4,3,2,1,4]\n",
    "输出：16\n",
    "```"
   ]
  },
  {
   "cell_type": "markdown",
   "metadata": {},
   "source": [
    "### 实现"
   ]
  },
  {
   "cell_type": "markdown",
   "metadata": {},
   "source": [
    "使用双指针法，首先将指针放在数组的首尾位置，此时容器的宽度最大，由于容器的面积受限于其中更小的边，因此需要更新最小的边来获得更大的面积，更新的方式即为将指针向中间移动，直到两指针相遇"
   ]
  },
  {
   "cell_type": "code",
   "execution_count": 3,
   "metadata": {},
   "outputs": [
    {
     "data": {
      "text/plain": [
       "17"
      ]
     },
     "execution_count": 3,
     "metadata": {},
     "output_type": "execute_result"
    }
   ],
   "source": [
    "height = [2,3,4,5,18,17,6]\n",
    "i = 0\n",
    "j = len(height)-1\n",
    "max_volume = 0\n",
    "while i < j:\n",
    "    volume = (j - i) * min(height[i], height[j])\n",
    "    if volume > max_volume:\n",
    "        max_volume = volume\n",
    "    if height[i] < height[j]:\n",
    "        i = i + 1\n",
    "    else: j = j - 1\n",
    "max_volume"
   ]
  },
  {
   "cell_type": "markdown",
   "metadata": {},
   "source": [
    "- 时间复杂度：$O(n)$\n",
    "- 空间复杂度：$O(1)$"
   ]
  },
  {
   "cell_type": "markdown",
   "metadata": {},
   "source": [
    "### 实现结果"
   ]
  },
  {
   "cell_type": "markdown",
   "metadata": {},
   "source": [
    "- 执行时间：68ms, 在所有 Python3 提交中击败了87.56%的用户\n",
    "- 内存消耗：16.1 MB, 在所有 Python3 提交中击败了20.01%的用户"
   ]
  },
  {
   "cell_type": "markdown",
   "metadata": {},
   "source": [
    "# 题目二 014最长公共前缀"
   ]
  },
  {
   "cell_type": "markdown",
   "metadata": {},
   "source": [
    "### 题目描述"
   ]
  },
  {
   "cell_type": "markdown",
   "metadata": {},
   "source": [
    "编写一个函数来查找字符串数组中的最长公共前缀。\n",
    "\n",
    "如果不存在公共前缀，返回空字符串 \"\"。"
   ]
  },
  {
   "cell_type": "markdown",
   "metadata": {},
   "source": [
    "**示例1**\n",
    "```\n",
    "输入：strs = [\"flower\",\"flow\",\"flight\"]\n",
    "输出：\"fl\"\n",
    "```"
   ]
  },
  {
   "cell_type": "markdown",
   "metadata": {},
   "source": [
    "**示例2**\n",
    "```\n",
    "输入：strs = [\"dog\",\"racecar\",\"car\"]\n",
    "输出：\"\"\n",
    "解释：输入不存在公共前缀。\n",
    "```"
   ]
  },
  {
   "cell_type": "markdown",
   "metadata": {},
   "source": [
    "### 实现"
   ]
  },
  {
   "cell_type": "code",
   "execution_count": null,
   "metadata": {},
   "outputs": [],
   "source": [
    "class Solution:\n",
    "    def longestCommonPrefix(self, strs: List[str]) -> str:\n",
    "        records = [[] for i in range(200)]\n",
    "        for str in strs:\n",
    "            for i,s in enumerate(str):\n",
    "                records[i].append(s)\n",
    "        bit = 0\n",
    "        flag = 0\n",
    "        print(records)\n",
    "        for r in records:\n",
    "            if len(set(r)) == 1 and len(r) == len(strs) and flag == 0:\n",
    "                bit += 1\n",
    "            else:\n",
    "                flag = 1\n",
    "        \n",
    "        res = strs[0][:bit] if len(strs)> 0 and bit > 0 else \"\"\n",
    "        return res"
   ]
  },
  {
   "cell_type": "markdown",
   "metadata": {},
   "source": [
    "# 题目三 015三数之和"
   ]
  },
  {
   "cell_type": "markdown",
   "metadata": {},
   "source": [
    "### 题目描述"
   ]
  },
  {
   "cell_type": "markdown",
   "metadata": {},
   "source": [
    "给你一个包含 n 个整数的数组 nums，判断 nums 中是否存在三个元素 a，b，c ，使得 a + b + c = 0 ？请你找出所有和为 0 且不重复的三元组。\n",
    "\n",
    "注意：答案中不可以包含重复的三元组。\n"
   ]
  },
  {
   "cell_type": "markdown",
   "metadata": {},
   "source": [
    "**示例1**\n",
    "\n",
    "```\n",
    "输入：nums = [-1,0,1,2,-1,-4]\n",
    "输出：[[-1,-1,2],[-1,0,1]]\n",
    "```"
   ]
  },
  {
   "cell_type": "markdown",
   "metadata": {},
   "source": [
    "**示例2**\n",
    "```\n",
    "输入：nums = []\n",
    "输出：[]\n",
    "```"
   ]
  },
  {
   "cell_type": "markdown",
   "metadata": {},
   "source": [
    "### 实现"
   ]
  },
  {
   "cell_type": "code",
   "execution_count": null,
   "metadata": {},
   "outputs": [],
   "source": [
    "class Solution:\n",
    "    def threeSum(self, nums: List[int]) -> List[List[int]]:\n",
    "        res = []\n",
    "        nums.sort()\n",
    "        for k in range(len(nums)):\n",
    "            if nums[k] > 0:\n",
    "                break\n",
    "            if k > 0 and nums[k] == nums[k-1]:\n",
    "                continue\n",
    "            i = k + 1\n",
    "            j = len(nums) - 1\n",
    "            while i < j:\n",
    "                s = nums[k] + nums[i] + nums[j]\n",
    "                if s > 0:\n",
    "                    j -= 1\n",
    "                    while i < j and nums[j] == nums[j+1]: j -= 1\n",
    "                elif s < 0:\n",
    "                    i += 1\n",
    "                    while i < j and nums[i] == nums[i-1]: i += 1\n",
    "                else:\n",
    "                    res.append([nums[k],nums[i],nums[j]])\n",
    "                    j -= 1\n",
    "                    while i < j and nums[j] == nums[j+1]: j -= 1\n",
    "                    i += 1\n",
    "                    while i < j and nums[i] == nums[i-1]: i += 1\n",
    "        return res"
   ]
  }
 ],
 "metadata": {
  "kernelspec": {
   "display_name": "Python 3",
   "language": "python",
   "name": "python3"
  },
  "language_info": {
   "codemirror_mode": {
    "name": "ipython",
    "version": 3
   },
   "file_extension": ".py",
   "mimetype": "text/x-python",
   "name": "python",
   "nbconvert_exporter": "python",
   "pygments_lexer": "ipython3",
   "version": "3.7.3"
  }
 },
 "nbformat": 4,
 "nbformat_minor": 4
}
