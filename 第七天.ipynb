{
 "cells": [
  {
   "cell_type": "markdown",
   "metadata": {},
   "source": [
    "# 题目一 054螺旋矩阵"
   ]
  },
  {
   "cell_type": "markdown",
   "metadata": {},
   "source": [
    "### 题目描述"
   ]
  },
  {
   "cell_type": "markdown",
   "metadata": {},
   "source": [
    "给定一个包含 m x n 个元素的矩阵（m 行, n 列），请按照顺时针螺旋顺序，返回矩阵中的所有元素。"
   ]
  },
  {
   "cell_type": "markdown",
   "metadata": {},
   "source": [
    "**示例1**\n",
    "```\n",
    "输入:\n",
    "[\n",
    " [ 1, 2, 3 ],\n",
    " [ 4, 5, 6 ],\n",
    " [ 7, 8, 9 ]\n",
    "]\n",
    "输出: [1,2,3,6,9,8,7,4,5]\n",
    "```"
   ]
  },
  {
   "cell_type": "markdown",
   "metadata": {},
   "source": [
    "**示例2**\n",
    "```\n",
    "输入:\n",
    "[\n",
    "  [1, 2, 3, 4],\n",
    "  [5, 6, 7, 8],\n",
    "  [9,10,11,12]\n",
    "]\n",
    "输出: [1,2,3,4,8,12,11,10,9,5,6,7]\n",
    "```"
   ]
  },
  {
   "cell_type": "markdown",
   "metadata": {},
   "source": [
    "### 实现"
   ]
  },
  {
   "cell_type": "markdown",
   "metadata": {},
   "source": [
    "定义顺时针的右下左上四个方向，依次沿着四个方向遍历数组，当遇到边界或遇到遍历过的元素时换一个方向，直到所有的元素都被遍历过"
   ]
  },
  {
   "cell_type": "code",
   "execution_count": 6,
   "metadata": {},
   "outputs": [
    {
     "data": {
      "text/plain": [
       "[1, 2, 3, 6, 9, 8, 7, 4, 5]"
      ]
     },
     "execution_count": 6,
     "metadata": {},
     "output_type": "execute_result"
    }
   ],
   "source": [
    "matrix = [\n",
    " [ 1, 2, 3 ],\n",
    " [ 4, 5, 6 ],\n",
    " [ 7, 8, 9 ]\n",
    "]\n",
    "m = len(matrix)\n",
    "n = len(matrix[0])\n",
    "visited = [[0 for j in range(n)] for i in range(m)]\n",
    "directions = [(0,1),(1,0),(0,-1),(-1,0)]\n",
    "res = []\n",
    "i, j = 0,0\n",
    "d = 0\n",
    "for k in range(m*n):\n",
    "    res.append(matrix[i][j])\n",
    "    visited[i][j] = 1\n",
    "    new_i = i + directions[d][0]   \n",
    "    new_j = j + directions[d][1]  \n",
    "    if 0<= new_i < m and 0 <= new_j < n and visited[new_i][new_j] == 0:\n",
    "        i, j = new_i, new_j\n",
    "    else:\n",
    "        d = (d+1)%4\n",
    "        i += directions[d][0]\n",
    "        j += directions[d][1]\n",
    "res"
   ]
  },
  {
   "cell_type": "markdown",
   "metadata": {},
   "source": [
    "- 时间复杂度：$O(mn)$\n",
    "- 空间复杂度：$O(mn)$"
   ]
  },
  {
   "cell_type": "markdown",
   "metadata": {},
   "source": [
    "### 实现结果"
   ]
  },
  {
   "cell_type": "markdown",
   "metadata": {},
   "source": [
    "- 执行时间：32ms, 在所有 Python3 提交中击败了93.40%的用户\n",
    "- 内存消耗：14.9 MB, 在所有 Python3 提交中击败了5.13%的用户"
   ]
  },
  {
   "cell_type": "markdown",
   "metadata": {},
   "source": [
    "# 题目二 059螺旋矩阵二"
   ]
  },
  {
   "cell_type": "markdown",
   "metadata": {},
   "source": [
    "### 题目描述"
   ]
  },
  {
   "cell_type": "markdown",
   "metadata": {},
   "source": [
    "给定一个正整数 n，生成一个包含 1 到 n2 所有元素，且元素按顺时针顺序螺旋排列的正方形矩阵。"
   ]
  },
  {
   "cell_type": "markdown",
   "metadata": {},
   "source": [
    "**示例**\n",
    "```\n",
    "输入: 3\n",
    "输出:\n",
    "[\n",
    " [ 1, 2, 3 ],\n",
    " [ 8, 9, 4 ],\n",
    " [ 7, 6, 5 ]\n",
    "]\n",
    "```"
   ]
  },
  {
   "cell_type": "markdown",
   "metadata": {},
   "source": [
    "### 实现"
   ]
  },
  {
   "cell_type": "markdown",
   "metadata": {},
   "source": [
    "方法与上题相同"
   ]
  },
  {
   "cell_type": "code",
   "execution_count": 11,
   "metadata": {},
   "outputs": [
    {
     "data": {
      "text/plain": [
       "[[1, 2, 3], [8, 9, 4], [7, 6, 5]]"
      ]
     },
     "execution_count": 11,
     "metadata": {},
     "output_type": "execute_result"
    }
   ],
   "source": [
    "n = 3\n",
    "matrix = [[0 for i in range(n)] for i in range(n)]\n",
    "directions = [(0,1),(1,0),(0,-1),(-1,0)]\n",
    "visited = [[0 for j in range(n)] for i in range(n)]\n",
    "i, j = 0, 0\n",
    "d = 0\n",
    "\n",
    "for k in range(n**2):\n",
    "    matrix[i][j] = k + 1\n",
    "    visited[i][j] = 1\n",
    "    new_i = i + directions[d][0]   \n",
    "    new_j = j + directions[d][1]  \n",
    "    if 0<= new_i < n and 0 <= new_j < n and visited[new_i][new_j] == 0:\n",
    "        i, j = new_i, new_j\n",
    "    else:\n",
    "        d = (d+1)%4\n",
    "        i += directions[d][0]\n",
    "        j += directions[d][1]\n",
    "matrix"
   ]
  },
  {
   "cell_type": "markdown",
   "metadata": {},
   "source": [
    "### 实现结果"
   ]
  },
  {
   "cell_type": "markdown",
   "metadata": {},
   "source": [
    "- 执行时间：20ms, 在所有 Python3 提交中击败了99.93%的用户\n",
    "- 内存消耗：14.9 MB, 在所有 Python3 提交中击败了24.79%的用户"
   ]
  },
  {
   "cell_type": "markdown",
   "metadata": {},
   "source": [
    "### 题目三 061旋转链表"
   ]
  },
  {
   "cell_type": "markdown",
   "metadata": {},
   "source": [
    "### 题目描述"
   ]
  },
  {
   "cell_type": "markdown",
   "metadata": {},
   "source": [
    "给定一个链表，旋转链表，将链表每个节点向右移动 k 个位置，其中 k 是非负数。"
   ]
  },
  {
   "cell_type": "markdown",
   "metadata": {},
   "source": [
    "**示例1**\n",
    "```\n",
    "输入: 1->2->3->4->5->NULL, k = 2\n",
    "输出: 4->5->1->2->3->NULL\n",
    "解释:\n",
    "向右旋转 1 步: 5->1->2->3->4->NULL\n",
    "向右旋转 2 步: 4->5->1->2->3->NULL\n",
    "```"
   ]
  },
  {
   "cell_type": "markdown",
   "metadata": {},
   "source": [
    "**示例2**\n",
    "```\n",
    "输入: 0->1->2->NULL, k = 4\n",
    "输出: 2->0->1->NULL\n",
    "解释:\n",
    "向右旋转 1 步: 2->0->1->NULL\n",
    "向右旋转 2 步: 1->2->0->NULL\n",
    "向右旋转 3 步: 0->1->2->NULL\n",
    "向右旋转 4 步: 2->0->1->NULL\n",
    "```"
   ]
  },
  {
   "cell_type": "markdown",
   "metadata": {},
   "source": [
    "### 实现"
   ]
  },
  {
   "cell_type": "markdown",
   "metadata": {},
   "source": [
    "遍历链表，记录每个位置上的链表节点，将原链表倒数第(k+1)个节点的next值赋为None,将原链表最后一个节点的Next值赋为原链表开头，最后返回原链表倒数第K个节点"
   ]
  },
  {
   "cell_type": "code",
   "execution_count": 21,
   "metadata": {},
   "outputs": [],
   "source": [
    "class ListNode:\n",
    "    def __init__(self, val=0, next=None):\n",
    "        self.val = val\n",
    "        self.next = next\n",
    "def generate_listnode(lis):\n",
    "    ln = [ListNode(i) for i in lis]\n",
    "    for i in range(len(ln)-1):\n",
    "        ln[i].next = ln[i+1]\n",
    "    return ln[0]\n",
    "def get_nums(ln):\n",
    "    i = ln\n",
    "    nums = [i.val]\n",
    "    while i.next:\n",
    "        i = i.next\n",
    "        nums.append(i.val)\n",
    "    return nums"
   ]
  },
  {
   "cell_type": "code",
   "execution_count": 34,
   "metadata": {},
   "outputs": [
    {
     "data": {
      "text/plain": [
       "[4, 5, 1, 2, 3]"
      ]
     },
     "execution_count": 34,
     "metadata": {},
     "output_type": "execute_result"
    }
   ],
   "source": [
    "lis = [1,2,3,4,5]\n",
    "k = 2\n",
    "head = generate_listnode(lis)\n",
    "cur = head\n",
    "listnodes = []\n",
    "while cur != None:\n",
    "    listnodes.append(cur)\n",
    "    cur = cur.next\n",
    "k = k % len(listnodes)\n",
    "head_node, tail_node = listnodes[-k],listnodes[-(k+1)]\n",
    "listnodes[-1].next = head\n",
    "tail_node.next = None\n",
    "get_nums(head_node)"
   ]
  },
  {
   "cell_type": "code",
   "execution_count": null,
   "metadata": {},
   "outputs": [],
   "source": [
    "# 添加边界判断条件\n",
    "if k == 0:\n",
    "    return head\n",
    "if head == None:\n",
    "    return head"
   ]
  },
  {
   "cell_type": "markdown",
   "metadata": {},
   "source": [
    "### 实现结果"
   ]
  },
  {
   "cell_type": "markdown",
   "metadata": {},
   "source": [
    "- 执行时间：36ms, 在所有 Python3 提交中击败了94.46%的用户\n",
    "- 内存消耗：14.9 MB, 在所有 Python3 提交中击败了6.31%的用户"
   ]
  },
  {
   "cell_type": "code",
   "execution_count": null,
   "metadata": {},
   "outputs": [],
   "source": []
  }
 ],
 "metadata": {
  "kernelspec": {
   "display_name": "Python 3",
   "language": "python",
   "name": "python3"
  },
  "language_info": {
   "codemirror_mode": {
    "name": "ipython",
    "version": 3
   },
   "file_extension": ".py",
   "mimetype": "text/x-python",
   "name": "python",
   "nbconvert_exporter": "python",
   "pygments_lexer": "ipython3",
   "version": "3.7.3"
  }
 },
 "nbformat": 4,
 "nbformat_minor": 4
}
