{
 "cells": [
  {
   "cell_type": "markdown",
   "metadata": {},
   "source": [
    "# 题目一 16. 最接近的三数之和"
   ]
  },
  {
   "cell_type": "markdown",
   "metadata": {},
   "source": [
    "### 题目描述"
   ]
  },
  {
   "cell_type": "markdown",
   "metadata": {},
   "source": [
    "给定一个包括 n 个整数的数组 nums 和 一个目标值 target。找出 nums 中的三个整数，使得它们的和与 target 最接近。返回这三个数的和。假定每组输入只存在唯一答案。"
   ]
  },
  {
   "cell_type": "markdown",
   "metadata": {},
   "source": [
    "**示例1**\n",
    "```\n",
    "输入：nums = [-1,2,1,-4], target = 1\n",
    "输出：2\n",
    "解释：与 target 最接近的和是 2 (-1 + 2 + 1 = 2) 。\n",
    "```"
   ]
  },
  {
   "cell_type": "markdown",
   "metadata": {},
   "source": [
    "### 实现"
   ]
  },
  {
   "cell_type": "markdown",
   "metadata": {},
   "source": [
    "双指针法，首先对数组排序，依次遍历各个元素，定义两个指针s和e，s是当前元素后面的第一个元素,e是该数组的最大值，求当前的三数之和，如果当前和小于目标值，则右移s将和调大，如果当前和小于目标值，则左移e将和调小，如果等于目标值，则返回，直到s==e即遍历了所有包含当前元素的和的情况。"
   ]
  },
  {
   "cell_type": "code",
   "execution_count": 4,
   "metadata": {},
   "outputs": [
    {
     "name": "stdout",
     "output_type": "stream",
     "text": [
      "0 1 3\n",
      "0 2 3\n",
      "1 2 3\n"
     ]
    },
    {
     "data": {
      "text/plain": [
       "2"
      ]
     },
     "execution_count": 4,
     "metadata": {},
     "output_type": "execute_result"
    }
   ],
   "source": [
    "nums = [-1,2,1,-4]\n",
    "target = 1\n",
    "nums = sorted(nums)\n",
    "res = sum(nums[:3])\n",
    "for i in range(len(nums)-2):\n",
    "    s = i + 1\n",
    "    e = len(nums) - 1\n",
    "    while s < e:\n",
    "        print(i,s,e)\n",
    "        sum_tmp = nums[i] + nums[s] + nums[e]\n",
    "        if sum_tmp < target:\n",
    "            s = s + 1\n",
    "        elif sum_tmp > target:\n",
    "            e = e - 1\n",
    "        else:\n",
    "            res = target\n",
    "            break\n",
    "        if abs(sum_tmp - target) < abs(res - target):\n",
    "            res = sum_tmp\n",
    "            \n",
    "res    "
   ]
  },
  {
   "cell_type": "markdown",
   "metadata": {},
   "source": [
    "- 时间复杂度：$O(n^2)$\n",
    "- 空间复杂度：$O(1)$"
   ]
  },
  {
   "cell_type": "markdown",
   "metadata": {},
   "source": [
    "### 实现结果"
   ]
  },
  {
   "cell_type": "markdown",
   "metadata": {},
   "source": [
    "- 执行时间：264ms, 在所有 Python3 提交中击败了15.61%的用户\n",
    "- 内存消耗：14.8 MB, 在所有 Python3 提交中击败了18.57%的用户"
   ]
  },
  {
   "cell_type": "markdown",
   "metadata": {},
   "source": [
    "# 题目二 020有效的括号"
   ]
  },
  {
   "cell_type": "markdown",
   "metadata": {},
   "source": [
    "### 题目描述"
   ]
  },
  {
   "cell_type": "markdown",
   "metadata": {},
   "source": [
    "给定一个只包括 '('，')'，'{'，'}'，'['，']' 的字符串，判断字符串是否有效。\n",
    "\n",
    "有效字符串需满足：\n",
    "\n",
    "1. 左括号必须用相同类型的右括号闭合。\n",
    "2. 左括号必须以正确的顺序闭合。\n",
    "\n",
    "注意空字符串可被认为是有效字符串。"
   ]
  },
  {
   "cell_type": "markdown",
   "metadata": {},
   "source": [
    "**示例1**\n",
    "```\n",
    "输入: \"()\"\n",
    "输出: true\n",
    "```"
   ]
  },
  {
   "cell_type": "markdown",
   "metadata": {},
   "source": [
    "**示例2**\n",
    "```\n",
    "输入: \"([)]\"\n",
    "输出: false\n",
    "```"
   ]
  },
  {
   "cell_type": "markdown",
   "metadata": {},
   "source": [
    "### 实现"
   ]
  },
  {
   "cell_type": "markdown",
   "metadata": {},
   "source": [
    "利用栈的数据结构，遍历字符串，如果字符是左括号，就入栈，如果字符是右括号，就看是否能与栈尾元素匹配，如果能够匹配，就将栈尾的左括号出栈，否则就不是有效字符串。如果遍历到的字符为右括号，但栈已经为空，则有多余的右括号，为无效字符串；如果遍历结束后栈内仍由左括号，则有多余的左括号，为无效字符串。"
   ]
  },
  {
   "cell_type": "code",
   "execution_count": 11,
   "metadata": {},
   "outputs": [
    {
     "data": {
      "text/plain": [
       "False"
      ]
     },
     "execution_count": 11,
     "metadata": {},
     "output_type": "execute_result"
    }
   ],
   "source": [
    "s = \"()[][\"\n",
    "if len(s) == 0:\n",
    "    res = True\n",
    "else:\n",
    "    res = True\n",
    "    maps = {'(':')','[':']','{':'}'}\n",
    "    stack = []\n",
    "    for i in s:\n",
    "        if i in ['(','[','{']:\n",
    "            stack.append(i)\n",
    "        else:\n",
    "            if len(stack) == 0:\n",
    "                res = False\n",
    "                break\n",
    "            if i == maps[stack[-1]]:\n",
    "                stack.pop()\n",
    "            else:\n",
    "                res = False\n",
    "                break\n",
    "    if len(stack) > 0 :\n",
    "        res = False\n",
    "res\n",
    "            "
   ]
  },
  {
   "cell_type": "markdown",
   "metadata": {},
   "source": [
    "- 时间复杂度: $O(n)$\n",
    "- 空间复杂度: $O(n)$"
   ]
  },
  {
   "cell_type": "markdown",
   "metadata": {},
   "source": [
    "### 实现结果"
   ]
  },
  {
   "cell_type": "markdown",
   "metadata": {},
   "source": [
    "- 执行时间：40ms, 在所有 Python3 提交中击败了64.40%的用户\n",
    "- 内存消耗：15 MB, 在所有 Python3 提交中击败了5.34%的用户"
   ]
  },
  {
   "cell_type": "markdown",
   "metadata": {},
   "source": [
    "### 其他实现"
   ]
  },
  {
   "cell_type": "code",
   "execution_count": 12,
   "metadata": {},
   "outputs": [],
   "source": [
    "class Solution:\n",
    "    def isValid(self, s: str) -> bool:\n",
    "\n",
    "        stack = ['?']\n",
    "        maps = {\"(\":\")\",\"[\":\"]\",\"{\":\"}\",\"?\":\"?\"}\n",
    "        for c in s:\n",
    "            if c in maps:\n",
    "                stack.append(maps[c])\n",
    "            elif c != stack.pop():\n",
    "                return False\n",
    "        return len(stack) == 1"
   ]
  },
  {
   "cell_type": "markdown",
   "metadata": {},
   "source": [
    "# 题目三 021合并两个有序链表"
   ]
  },
  {
   "cell_type": "markdown",
   "metadata": {},
   "source": [
    "### 题目描述"
   ]
  },
  {
   "cell_type": "markdown",
   "metadata": {},
   "source": [
    "将两个升序链表合并为一个新的 升序 链表并返回。新链表是通过拼接给定的两个链表的所有节点组成的。 "
   ]
  },
  {
   "cell_type": "markdown",
   "metadata": {},
   "source": [
    "**示例1**\n",
    "```\n",
    "输入：l1 = [1,2,4], l2 = [1,3,4]\n",
    "输出：[1,1,2,3,4,4]\n",
    "```"
   ]
  },
  {
   "cell_type": "markdown",
   "metadata": {},
   "source": [
    "**示例2**\n",
    "```\n",
    "输入：l1 = [], l2 = []\n",
    "输出：[]\n",
    "```"
   ]
  },
  {
   "cell_type": "markdown",
   "metadata": {},
   "source": [
    "### 实现"
   ]
  },
  {
   "cell_type": "code",
   "execution_count": 13,
   "metadata": {},
   "outputs": [],
   "source": [
    "class ListNode:\n",
    "    def __init__(self, val=0, next=None):\n",
    "        self.val = val\n",
    "        self.next = next\n",
    "def generate_listnode(lis):\n",
    "    ln = [ListNode(i) for i in lis]\n",
    "    for i in range(len(ln)-1):\n",
    "        ln[i].next = ln[i+1]\n",
    "    return ln[0]"
   ]
  },
  {
   "cell_type": "code",
   "execution_count": 27,
   "metadata": {},
   "outputs": [],
   "source": [
    "l1_ls = [1,2,4]\n",
    "l2_ls = [1,3,4]\n",
    "l1 = generate_listnode(l1_ls)\n",
    "l2 = generate_listnode(l2_ls)"
   ]
  },
  {
   "cell_type": "code",
   "execution_count": 28,
   "metadata": {},
   "outputs": [],
   "source": [
    "pre = ListNode(0)\n",
    "cur = pre\n",
    "while l1 and l2:\n",
    "    if l1.val <= l2.val:\n",
    "        cur.next = l1\n",
    "        cur = cur.next\n",
    "        l1 = l1.next\n",
    "    else:\n",
    "        cur.next = l2\n",
    "        cur = cur.next\n",
    "        l2 = l2.next\n",
    "if l1 != None:\n",
    "    cur.next = l1\n",
    "if l2 != None:\n",
    "    cur.next = l2\n",
    "res = pre.next"
   ]
  },
  {
   "cell_type": "code",
   "execution_count": 29,
   "metadata": {},
   "outputs": [
    {
     "name": "stdout",
     "output_type": "stream",
     "text": [
      "1\n",
      "1\n",
      "2\n",
      "3\n",
      "4\n",
      "4\n"
     ]
    }
   ],
   "source": [
    "while res:\n",
    "    print(res.val)\n",
    "    res = res.next"
   ]
  },
  {
   "cell_type": "markdown",
   "metadata": {},
   "source": [
    "### 实现结果"
   ]
  },
  {
   "cell_type": "markdown",
   "metadata": {},
   "source": [
    "- 执行时间：40ms, 在所有 Python3 提交中击败了88.12%的用户\n",
    "- 内存消耗：14.8 MB, 在所有 Python3 提交中击败了12.97%的用户"
   ]
  },
  {
   "cell_type": "code",
   "execution_count": null,
   "metadata": {},
   "outputs": [],
   "source": []
  }
 ],
 "metadata": {
  "kernelspec": {
   "display_name": "Python 3",
   "language": "python",
   "name": "python3"
  },
  "language_info": {
   "codemirror_mode": {
    "name": "ipython",
    "version": 3
   },
   "file_extension": ".py",
   "mimetype": "text/x-python",
   "name": "python",
   "nbconvert_exporter": "python",
   "pygments_lexer": "ipython3",
   "version": "3.7.3"
  }
 },
 "nbformat": 4,
 "nbformat_minor": 4
}
